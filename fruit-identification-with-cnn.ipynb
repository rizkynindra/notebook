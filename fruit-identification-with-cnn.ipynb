{
 "cells": [
  {
   "cell_type": "code",
   "execution_count": 1,
   "id": "327557fd",
   "metadata": {
    "_cell_guid": "b1076dfc-b9ad-4769-8c92-a6c4dae69d19",
    "_uuid": "8f2839f25d086af736a60e9eeb907d3b93b6e0e5",
    "execution": {
     "iopub.execute_input": "2023-01-16T07:34:00.246670Z",
     "iopub.status.busy": "2023-01-16T07:34:00.245934Z",
     "iopub.status.idle": "2023-01-16T07:34:00.258752Z",
     "shell.execute_reply": "2023-01-16T07:34:00.257871Z"
    },
    "papermill": {
     "duration": 0.025505,
     "end_time": "2023-01-16T07:34:00.261553",
     "exception": false,
     "start_time": "2023-01-16T07:34:00.236048",
     "status": "completed"
    },
    "tags": []
   },
   "outputs": [],
   "source": [
    "# This Python 3 environment comes with many helpful analytics libraries installed\n",
    "# It is defined by the kaggle/python Docker image: https://github.com/kaggle/docker-python\n",
    "# For example, here's several helpful packages to load\n",
    "\n",
    "import numpy as np # linear algebra\n",
    "import pandas as pd # data processing, CSV file I/O (e.g. pd.read_csv)\n",
    "import matplotlib.pyplot as plt\n",
    "from pathlib import Path\n",
    "\n",
    "# Input data files are available in the read-only \"../input/\" directory\n",
    "# For example, running this (by clicking run or pressing Shift+Enter) will list all files under the input directory\n",
    "\n",
    "# import os\n",
    "# for dirname, _, filenames in os.walk('/kaggle/input'):\n",
    "#     for filename in filenames:\n",
    "#         print(os.path.join(dirname, filename))\n",
    "\n",
    "# You can write up to 20GB to the current directory (/kaggle/working/) that gets preserved as output when you create a version using \"Save & Run All\" \n",
    "# You can also write temporary files to /kaggle/temp/, but they won't be saved outside of the current session"
   ]
  },
  {
   "cell_type": "code",
   "execution_count": 2,
   "id": "a46cab43",
   "metadata": {
    "execution": {
     "iopub.execute_input": "2023-01-16T07:34:00.277790Z",
     "iopub.status.busy": "2023-01-16T07:34:00.277535Z",
     "iopub.status.idle": "2023-01-16T07:34:00.281829Z",
     "shell.execute_reply": "2023-01-16T07:34:00.280910Z"
    },
    "papermill": {
     "duration": 0.014577,
     "end_time": "2023-01-16T07:34:00.283665",
     "exception": false,
     "start_time": "2023-01-16T07:34:00.269088",
     "status": "completed"
    },
    "tags": []
   },
   "outputs": [],
   "source": [
    "#create pathlib for path\n",
    "tr_path = Path('/kaggle/input/fruits/fruits-360_dataset/fruits-360/Training')\n",
    "ts_path = Path('/kaggle/input/fruits/fruits-360_dataset/fruits-360/Test')"
   ]
  },
  {
   "cell_type": "code",
   "execution_count": 3,
   "id": "06193225",
   "metadata": {
    "execution": {
     "iopub.execute_input": "2023-01-16T07:34:00.300823Z",
     "iopub.status.busy": "2023-01-16T07:34:00.299309Z",
     "iopub.status.idle": "2023-01-16T07:34:24.337791Z",
     "shell.execute_reply": "2023-01-16T07:34:24.336778Z"
    },
    "papermill": {
     "duration": 24.049512,
     "end_time": "2023-01-16T07:34:24.340454",
     "exception": false,
     "start_time": "2023-01-16T07:34:00.290942",
     "status": "completed"
    },
    "tags": []
   },
   "outputs": [
    {
     "data": {
      "text/plain": [
       "['/kaggle/input/fruits/fruits-360_dataset/fruits-360/Training/Quince/r_305_100.jpg',\n",
       " '/kaggle/input/fruits/fruits-360_dataset/fruits-360/Training/Quince/139_100.jpg',\n",
       " '/kaggle/input/fruits/fruits-360_dataset/fruits-360/Training/Quince/128_100.jpg',\n",
       " '/kaggle/input/fruits/fruits-360_dataset/fruits-360/Training/Quince/r_239_100.jpg',\n",
       " '/kaggle/input/fruits/fruits-360_dataset/fruits-360/Training/Quince/185_100.jpg',\n",
       " '/kaggle/input/fruits/fruits-360_dataset/fruits-360/Training/Quince/r_199_100.jpg',\n",
       " '/kaggle/input/fruits/fruits-360_dataset/fruits-360/Training/Quince/r_287_100.jpg',\n",
       " '/kaggle/input/fruits/fruits-360_dataset/fruits-360/Training/Quince/73_100.jpg',\n",
       " '/kaggle/input/fruits/fruits-360_dataset/fruits-360/Training/Quince/191_100.jpg',\n",
       " '/kaggle/input/fruits/fruits-360_dataset/fruits-360/Training/Quince/r_306_100.jpg']"
      ]
     },
     "execution_count": 3,
     "metadata": {},
     "output_type": "execute_result"
    }
   ],
   "source": [
    "#Getting Image Paths\n",
    "tr_img_paths = list(tr_path.glob(\"*/*\"))\n",
    "tr_img_paths = list(map(lambda x : str(x), tr_img_paths))\n",
    "\n",
    "tr_img_paths[:10]"
   ]
  },
  {
   "cell_type": "code",
   "execution_count": 4,
   "id": "1a0d0e1d",
   "metadata": {
    "execution": {
     "iopub.execute_input": "2023-01-16T07:34:24.357734Z",
     "iopub.status.busy": "2023-01-16T07:34:24.357411Z",
     "iopub.status.idle": "2023-01-16T07:34:24.404596Z",
     "shell.execute_reply": "2023-01-16T07:34:24.403452Z"
    },
    "papermill": {
     "duration": 0.058361,
     "end_time": "2023-01-16T07:34:24.407011",
     "exception": false,
     "start_time": "2023-01-16T07:34:24.348650",
     "status": "completed"
    },
    "tags": []
   },
   "outputs": [
    {
     "data": {
      "text/plain": [
       "['Quince',\n",
       " 'Quince',\n",
       " 'Quince',\n",
       " 'Quince',\n",
       " 'Quince',\n",
       " 'Quince',\n",
       " 'Quince',\n",
       " 'Quince',\n",
       " 'Quince',\n",
       " 'Quince']"
      ]
     },
     "execution_count": 4,
     "metadata": {},
     "output_type": "execute_result"
    }
   ],
   "source": [
    "# Getting their respective labels\n",
    "\n",
    "def get_label(image_path):\n",
    "    return image_path.split(\"/\")[-2]\n",
    "\n",
    "tr_img_labels = list(map(lambda x : get_label(x), tr_img_paths))\n",
    "tr_img_labels[:10]"
   ]
  },
  {
   "cell_type": "code",
   "execution_count": 5,
   "id": "4b8e4344",
   "metadata": {
    "execution": {
     "iopub.execute_input": "2023-01-16T07:34:24.424482Z",
     "iopub.status.busy": "2023-01-16T07:34:24.424143Z",
     "iopub.status.idle": "2023-01-16T07:34:25.185101Z",
     "shell.execute_reply": "2023-01-16T07:34:25.184174Z"
    },
    "papermill": {
     "duration": 0.772127,
     "end_time": "2023-01-16T07:34:25.187329",
     "exception": false,
     "start_time": "2023-01-16T07:34:24.415202",
     "status": "completed"
    },
    "tags": []
   },
   "outputs": [
    {
     "data": {
      "text/plain": [
       "array([111, 111, 111, 111, 111, 111, 111, 111, 111, 111])"
      ]
     },
     "execution_count": 5,
     "metadata": {},
     "output_type": "execute_result"
    }
   ],
   "source": [
    "from sklearn.preprocessing import LabelEncoder\n",
    "\n",
    "le = LabelEncoder()\n",
    "tr_img_labels = le.fit_transform(tr_img_labels)\n",
    "\n",
    "tr_img_labels[:10]"
   ]
  },
  {
   "cell_type": "code",
   "execution_count": 6,
   "id": "07167f80",
   "metadata": {
    "execution": {
     "iopub.execute_input": "2023-01-16T07:34:25.206655Z",
     "iopub.status.busy": "2023-01-16T07:34:25.205984Z",
     "iopub.status.idle": "2023-01-16T07:34:30.503458Z",
     "shell.execute_reply": "2023-01-16T07:34:30.502333Z"
    },
    "papermill": {
     "duration": 5.308859,
     "end_time": "2023-01-16T07:34:30.505862",
     "exception": false,
     "start_time": "2023-01-16T07:34:25.197003",
     "status": "completed"
    },
    "tags": []
   },
   "outputs": [
    {
     "data": {
      "text/plain": [
       "array([[0., 0., 0., ..., 0., 0., 0.],\n",
       "       [0., 0., 0., ..., 0., 0., 0.],\n",
       "       [0., 0., 0., ..., 0., 0., 0.],\n",
       "       ...,\n",
       "       [0., 0., 0., ..., 0., 0., 0.],\n",
       "       [0., 0., 0., ..., 0., 0., 0.],\n",
       "       [0., 0., 0., ..., 0., 0., 0.]], dtype=float32)"
      ]
     },
     "execution_count": 6,
     "metadata": {},
     "output_type": "execute_result"
    }
   ],
   "source": [
    "import tensorflow as tf\n",
    "\n",
    "tr_img_labels = tf.keras.utils.to_categorical(tr_img_labels)\n",
    "\n",
    "tr_img_labels[:10]"
   ]
  },
  {
   "cell_type": "code",
   "execution_count": 7,
   "id": "c2a4e733",
   "metadata": {
    "execution": {
     "iopub.execute_input": "2023-01-16T07:34:30.524216Z",
     "iopub.status.busy": "2023-01-16T07:34:30.523694Z",
     "iopub.status.idle": "2023-01-16T07:34:30.602283Z",
     "shell.execute_reply": "2023-01-16T07:34:30.601122Z"
    },
    "papermill": {
     "duration": 0.089834,
     "end_time": "2023-01-16T07:34:30.604850",
     "exception": false,
     "start_time": "2023-01-16T07:34:30.515016",
     "status": "completed"
    },
    "tags": []
   },
   "outputs": [],
   "source": [
    "from sklearn.model_selection import train_test_split\n",
    "\n",
    "Tr_paths, Val_paths, Tr_labels, Val_label = train_test_split(tr_img_paths, tr_img_labels)"
   ]
  },
  {
   "cell_type": "code",
   "execution_count": 8,
   "id": "074b0fea",
   "metadata": {
    "execution": {
     "iopub.execute_input": "2023-01-16T07:34:30.623411Z",
     "iopub.status.busy": "2023-01-16T07:34:30.621646Z",
     "iopub.status.idle": "2023-01-16T07:34:30.629954Z",
     "shell.execute_reply": "2023-01-16T07:34:30.628986Z"
    },
    "papermill": {
     "duration": 0.019441,
     "end_time": "2023-01-16T07:34:30.632244",
     "exception": false,
     "start_time": "2023-01-16T07:34:30.612803",
     "status": "completed"
    },
    "tags": []
   },
   "outputs": [
    {
     "data": {
      "text/plain": [
       "(['/kaggle/input/fruits/fruits-360_dataset/fruits-360/Training/Plum 3/r2_200_100.jpg',\n",
       "  '/kaggle/input/fruits/fruits-360_dataset/fruits-360/Training/Potato White/r_24_100.jpg',\n",
       "  '/kaggle/input/fruits/fruits-360_dataset/fruits-360/Training/Tomato 2/69_100.jpg',\n",
       "  '/kaggle/input/fruits/fruits-360_dataset/fruits-360/Training/Cherry Wax Red/184_100.jpg',\n",
       "  '/kaggle/input/fruits/fruits-360_dataset/fruits-360/Training/Cherry Wax Red/320_100.jpg',\n",
       "  '/kaggle/input/fruits/fruits-360_dataset/fruits-360/Training/Banana Lady Finger/159_100.jpg',\n",
       "  '/kaggle/input/fruits/fruits-360_dataset/fruits-360/Training/Pear Monster/r_296_100.jpg',\n",
       "  '/kaggle/input/fruits/fruits-360_dataset/fruits-360/Training/Lemon/r_93_100.jpg',\n",
       "  '/kaggle/input/fruits/fruits-360_dataset/fruits-360/Training/Pear 2/r_223_100.jpg',\n",
       "  '/kaggle/input/fruits/fruits-360_dataset/fruits-360/Training/Cherry Wax Black/7_100.jpg'],\n",
       " array([[0., 0., 0., ..., 0., 0., 0.],\n",
       "        [0., 0., 0., ..., 0., 0., 0.],\n",
       "        [0., 0., 0., ..., 0., 0., 0.],\n",
       "        ...,\n",
       "        [0., 0., 0., ..., 0., 0., 0.],\n",
       "        [0., 0., 0., ..., 0., 0., 0.],\n",
       "        [0., 0., 0., ..., 0., 0., 0.]], dtype=float32))"
      ]
     },
     "execution_count": 8,
     "metadata": {},
     "output_type": "execute_result"
    }
   ],
   "source": [
    "Tr_paths[:10], Tr_labels[:10]"
   ]
  },
  {
   "cell_type": "code",
   "execution_count": 9,
   "id": "e9adde6c",
   "metadata": {
    "execution": {
     "iopub.execute_input": "2023-01-16T07:34:30.651007Z",
     "iopub.status.busy": "2023-01-16T07:34:30.649452Z",
     "iopub.status.idle": "2023-01-16T07:34:30.655069Z",
     "shell.execute_reply": "2023-01-16T07:34:30.654183Z"
    },
    "papermill": {
     "duration": 0.016622,
     "end_time": "2023-01-16T07:34:30.657342",
     "exception": false,
     "start_time": "2023-01-16T07:34:30.640720",
     "status": "completed"
    },
    "tags": []
   },
   "outputs": [],
   "source": [
    "# function used for transformation\n",
    "\n",
    "def load(image, label):\n",
    "    image = tf.io.read_file(image)\n",
    "    image = tf.io.decode_jpeg(image, channels=3)\n",
    "    return image, label"
   ]
  },
  {
   "cell_type": "code",
   "execution_count": 10,
   "id": "05980039",
   "metadata": {
    "execution": {
     "iopub.execute_input": "2023-01-16T07:34:30.675073Z",
     "iopub.status.busy": "2023-01-16T07:34:30.674305Z",
     "iopub.status.idle": "2023-01-16T07:34:34.212199Z",
     "shell.execute_reply": "2023-01-16T07:34:34.210659Z"
    },
    "papermill": {
     "duration": 3.549353,
     "end_time": "2023-01-16T07:34:34.214850",
     "exception": false,
     "start_time": "2023-01-16T07:34:30.665497",
     "status": "completed"
    },
    "tags": []
   },
   "outputs": [
    {
     "name": "stderr",
     "output_type": "stream",
     "text": [
      "2023-01-16 07:34:30.824025: I tensorflow/stream_executor/cuda/cuda_gpu_executor.cc:937] successful NUMA node read from SysFS had negative value (-1), but there must be at least one NUMA node, so returning NUMA node zero\n",
      "2023-01-16 07:34:30.824951: I tensorflow/stream_executor/cuda/cuda_gpu_executor.cc:937] successful NUMA node read from SysFS had negative value (-1), but there must be at least one NUMA node, so returning NUMA node zero\n",
      "2023-01-16 07:34:30.966848: I tensorflow/stream_executor/cuda/cuda_gpu_executor.cc:937] successful NUMA node read from SysFS had negative value (-1), but there must be at least one NUMA node, so returning NUMA node zero\n",
      "2023-01-16 07:34:30.967731: I tensorflow/stream_executor/cuda/cuda_gpu_executor.cc:937] successful NUMA node read from SysFS had negative value (-1), but there must be at least one NUMA node, so returning NUMA node zero\n",
      "2023-01-16 07:34:30.968492: I tensorflow/stream_executor/cuda/cuda_gpu_executor.cc:937] successful NUMA node read from SysFS had negative value (-1), but there must be at least one NUMA node, so returning NUMA node zero\n",
      "2023-01-16 07:34:30.969212: I tensorflow/stream_executor/cuda/cuda_gpu_executor.cc:937] successful NUMA node read from SysFS had negative value (-1), but there must be at least one NUMA node, so returning NUMA node zero\n",
      "2023-01-16 07:34:30.970505: I tensorflow/core/platform/cpu_feature_guard.cc:142] This TensorFlow binary is optimized with oneAPI Deep Neural Network Library (oneDNN) to use the following CPU instructions in performance-critical operations:  AVX2 AVX512F FMA\n",
      "To enable them in other operations, rebuild TensorFlow with the appropriate compiler flags.\n",
      "2023-01-16 07:34:31.228725: I tensorflow/stream_executor/cuda/cuda_gpu_executor.cc:937] successful NUMA node read from SysFS had negative value (-1), but there must be at least one NUMA node, so returning NUMA node zero\n",
      "2023-01-16 07:34:31.229595: I tensorflow/stream_executor/cuda/cuda_gpu_executor.cc:937] successful NUMA node read from SysFS had negative value (-1), but there must be at least one NUMA node, so returning NUMA node zero\n",
      "2023-01-16 07:34:31.230311: I tensorflow/stream_executor/cuda/cuda_gpu_executor.cc:937] successful NUMA node read from SysFS had negative value (-1), but there must be at least one NUMA node, so returning NUMA node zero\n",
      "2023-01-16 07:34:31.231272: I tensorflow/stream_executor/cuda/cuda_gpu_executor.cc:937] successful NUMA node read from SysFS had negative value (-1), but there must be at least one NUMA node, so returning NUMA node zero\n",
      "2023-01-16 07:34:31.232239: I tensorflow/stream_executor/cuda/cuda_gpu_executor.cc:937] successful NUMA node read from SysFS had negative value (-1), but there must be at least one NUMA node, so returning NUMA node zero\n",
      "2023-01-16 07:34:31.233063: I tensorflow/stream_executor/cuda/cuda_gpu_executor.cc:937] successful NUMA node read from SysFS had negative value (-1), but there must be at least one NUMA node, so returning NUMA node zero\n",
      "2023-01-16 07:34:33.854971: I tensorflow/stream_executor/cuda/cuda_gpu_executor.cc:937] successful NUMA node read from SysFS had negative value (-1), but there must be at least one NUMA node, so returning NUMA node zero\n",
      "2023-01-16 07:34:33.856330: I tensorflow/stream_executor/cuda/cuda_gpu_executor.cc:937] successful NUMA node read from SysFS had negative value (-1), but there must be at least one NUMA node, so returning NUMA node zero\n",
      "2023-01-16 07:34:33.857396: I tensorflow/stream_executor/cuda/cuda_gpu_executor.cc:937] successful NUMA node read from SysFS had negative value (-1), but there must be at least one NUMA node, so returning NUMA node zero\n",
      "2023-01-16 07:34:33.858277: I tensorflow/stream_executor/cuda/cuda_gpu_executor.cc:937] successful NUMA node read from SysFS had negative value (-1), but there must be at least one NUMA node, so returning NUMA node zero\n",
      "2023-01-16 07:34:33.858999: I tensorflow/stream_executor/cuda/cuda_gpu_executor.cc:937] successful NUMA node read from SysFS had negative value (-1), but there must be at least one NUMA node, so returning NUMA node zero\n",
      "2023-01-16 07:34:33.859643: I tensorflow/core/common_runtime/gpu/gpu_device.cc:1510] Created device /job:localhost/replica:0/task:0/device:GPU:0 with 13789 MB memory:  -> device: 0, name: Tesla T4, pci bus id: 0000:00:04.0, compute capability: 7.5\n",
      "2023-01-16 07:34:33.862611: I tensorflow/stream_executor/cuda/cuda_gpu_executor.cc:937] successful NUMA node read from SysFS had negative value (-1), but there must be at least one NUMA node, so returning NUMA node zero\n",
      "2023-01-16 07:34:33.863330: I tensorflow/core/common_runtime/gpu/gpu_device.cc:1510] Created device /job:localhost/replica:0/task:0/device:GPU:1 with 13789 MB memory:  -> device: 1, name: Tesla T4, pci bus id: 0000:00:05.0, compute capability: 7.5\n"
     ]
    }
   ],
   "source": [
    "# Define image size and Batch size\n",
    "img_size = 224\n",
    "batch_size = 32\n",
    "\n",
    "# basic transformation\n",
    "resize = tf.keras.Sequential([\n",
    "    tf.keras.layers.experimental.preprocessing.Resizing(img_size, img_size)\n",
    "])\n",
    "\n",
    "# Data augmentation\n",
    "data_augmentation = tf.keras.Sequential([\n",
    "    tf.keras.layers.experimental.preprocessing.RandomFlip(\"horizontal\"),\n",
    "    tf.keras.layers.experimental.preprocessing.RandomRotation(0.2),\n",
    "    tf.keras.layers.experimental.preprocessing.RandomZoom(height_factor = (-0.3, -0.2))\n",
    "])"
   ]
  },
  {
   "cell_type": "code",
   "execution_count": 11,
   "id": "3ab91ce5",
   "metadata": {
    "execution": {
     "iopub.execute_input": "2023-01-16T07:34:34.233482Z",
     "iopub.status.busy": "2023-01-16T07:34:34.232618Z",
     "iopub.status.idle": "2023-01-16T07:34:34.240423Z",
     "shell.execute_reply": "2023-01-16T07:34:34.239474Z"
    },
    "papermill": {
     "duration": 0.018998,
     "end_time": "2023-01-16T07:34:34.242645",
     "exception": false,
     "start_time": "2023-01-16T07:34:34.223647",
     "status": "completed"
    },
    "tags": []
   },
   "outputs": [],
   "source": [
    "# function used to create a tensorflow data object\n",
    "autotune = tf.data.experimental.AUTOTUNE\n",
    "def get_dataset(paths, labels, train = True):\n",
    "    image_paths = tf.convert_to_tensor(paths)\n",
    "    labels = tf.convert_to_tensor(labels)\n",
    "    \n",
    "    image_dataset = tf.data.Dataset.from_tensor_slices(image_paths)\n",
    "    label_dataset = tf.data.Dataset.from_tensor_slices(labels)\n",
    "    \n",
    "    dataset = tf.data.Dataset.zip((image_dataset, label_dataset))\n",
    "    \n",
    "    dataset = dataset.map(lambda image, label: load(image, label))\n",
    "    dataset = dataset.map(lambda image, label: (resize(image), label), num_parallel_calls=autotune)\n",
    "    dataset = dataset.shuffle(1000)\n",
    "    dataset = dataset.batch(batch_size)\n",
    "    \n",
    "    if train:\n",
    "        dataset = dataset.map(lambda image, label: (data_augmentation(image), label), num_parallel_calls=autotune)\n",
    "        \n",
    "    dataset = dataset.repeat()\n",
    "    return dataset"
   ]
  },
  {
   "cell_type": "code",
   "execution_count": 12,
   "id": "8fc7e9f6",
   "metadata": {
    "execution": {
     "iopub.execute_input": "2023-01-16T07:34:34.259697Z",
     "iopub.status.busy": "2023-01-16T07:34:34.258938Z",
     "iopub.status.idle": "2023-01-16T07:34:38.918133Z",
     "shell.execute_reply": "2023-01-16T07:34:38.917055Z"
    },
    "papermill": {
     "duration": 4.670656,
     "end_time": "2023-01-16T07:34:38.921036",
     "exception": false,
     "start_time": "2023-01-16T07:34:34.250380",
     "status": "completed"
    },
    "tags": []
   },
   "outputs": [
    {
     "name": "stdout",
     "output_type": "stream",
     "text": [
      "CPU times: user 524 ms, sys: 43.4 ms, total: 567 ms\n",
      "Wall time: 610 ms\n"
     ]
    },
    {
     "name": "stderr",
     "output_type": "stream",
     "text": [
      "2023-01-16 07:34:35.008487: I tensorflow/compiler/mlir/mlir_graph_optimization_pass.cc:185] None of the MLIR Optimization Passes are enabled (registered 2)\n"
     ]
    },
    {
     "name": "stdout",
     "output_type": "stream",
     "text": [
      "(32, 224, 224, 3)\n",
      "(32, 131)\n"
     ]
    }
   ],
   "source": [
    "# creating train dataset object and verifying it\n",
    "%time train_dataset = get_dataset(Tr_paths, Tr_labels)\n",
    "\n",
    "image, label = next(iter(train_dataset))\n",
    "print(image.shape)\n",
    "print(label.shape)"
   ]
  },
  {
   "cell_type": "code",
   "execution_count": 13,
   "id": "1bc09771",
   "metadata": {
    "execution": {
     "iopub.execute_input": "2023-01-16T07:34:38.940824Z",
     "iopub.status.busy": "2023-01-16T07:34:38.939937Z",
     "iopub.status.idle": "2023-01-16T07:34:39.236286Z",
     "shell.execute_reply": "2023-01-16T07:34:39.235036Z"
    },
    "papermill": {
     "duration": 0.308296,
     "end_time": "2023-01-16T07:34:39.238747",
     "exception": false,
     "start_time": "2023-01-16T07:34:38.930451",
     "status": "completed"
    },
    "tags": []
   },
   "outputs": [
    {
     "name": "stdout",
     "output_type": "stream",
     "text": [
      "Cactus fruit\n"
     ]
    },
    {
     "data": {
      "text/plain": [
       "<matplotlib.image.AxesImage at 0x7f31abdaed10>"
      ]
     },
     "execution_count": 13,
     "metadata": {},
     "output_type": "execute_result"
    },
    {
     "data": {
      "image/png": "[encoded data removed]",
      "text/plain": [
       "<Figure size 432x288 with 1 Axes>"
      ]
     },
     "metadata": {
      "needs_background": "light"
     },
     "output_type": "display_data"
    }
   ],
   "source": [
    "# view a sample training image\n",
    "print(le.inverse_transform(np.argmax(label, axis=1))[0])\n",
    "plt.imshow((image[0].numpy()/255).reshape(224,224,3))"
   ]
  },
  {
   "cell_type": "code",
   "execution_count": 14,
   "id": "e0766db4",
   "metadata": {
    "execution": {
     "iopub.execute_input": "2023-01-16T07:34:39.258368Z",
     "iopub.status.busy": "2023-01-16T07:34:39.258005Z",
     "iopub.status.idle": "2023-01-16T07:34:44.414463Z",
     "shell.execute_reply": "2023-01-16T07:34:44.412005Z"
    },
    "papermill": {
     "duration": 5.169248,
     "end_time": "2023-01-16T07:34:44.417350",
     "exception": false,
     "start_time": "2023-01-16T07:34:39.248102",
     "status": "completed"
    },
    "tags": []
   },
   "outputs": [
    {
     "name": "stdout",
     "output_type": "stream",
     "text": [
      "CPU times: user 32.1 ms, sys: 264 µs, total: 32.4 ms\n",
      "Wall time: 33.4 ms\n",
      "(32, 224, 224, 3)\n",
      "(32, 131)\n"
     ]
    }
   ],
   "source": [
    "%time val_dataset = get_dataset(Val_paths, Val_label, train=False)\n",
    "\n",
    "image, label = next(iter(val_dataset))\n",
    "print(image.shape)\n",
    "print(label.shape)"
   ]
  },
  {
   "cell_type": "code",
   "execution_count": 15,
   "id": "1f47246b",
   "metadata": {
    "execution": {
     "iopub.execute_input": "2023-01-16T07:34:44.440278Z",
     "iopub.status.busy": "2023-01-16T07:34:44.439929Z",
     "iopub.status.idle": "2023-01-16T07:34:44.444581Z",
     "shell.execute_reply": "2023-01-16T07:34:44.443581Z"
    },
    "papermill": {
     "duration": 0.018507,
     "end_time": "2023-01-16T07:34:44.446462",
     "exception": false,
     "start_time": "2023-01-16T07:34:44.427955",
     "status": "completed"
    },
    "tags": []
   },
   "outputs": [],
   "source": [
    "# building ResNet50 model\n",
    "# from tensorflow.keras.applications import ResNet50V2\n",
    "\n",
    "# backbone = ResNet50V2(\n",
    "#     input_shape=(224,224,3),\n",
    "#     include_top=False\n",
    "# )\n",
    "\n",
    "# model = tf.keras.Sequential([\n",
    "#     backbone,\n",
    "#     tf.keras.layers.GlobalAveragePooling2D(),\n",
    "#     tf.keras.layers.Dense(131, activation='softmax')\n",
    "# ])\n",
    "\n",
    "# model.summary()"
   ]
  },
  {
   "cell_type": "code",
   "execution_count": 16,
   "id": "879ecf20",
   "metadata": {
    "execution": {
     "iopub.execute_input": "2023-01-16T07:34:44.466957Z",
     "iopub.status.busy": "2023-01-16T07:34:44.466299Z",
     "iopub.status.idle": "2023-01-16T07:34:48.415086Z",
     "shell.execute_reply": "2023-01-16T07:34:48.414105Z"
    },
    "papermill": {
     "duration": 3.962343,
     "end_time": "2023-01-16T07:34:48.418389",
     "exception": false,
     "start_time": "2023-01-16T07:34:44.456046",
     "status": "completed"
    },
    "tags": []
   },
   "outputs": [
    {
     "name": "stdout",
     "output_type": "stream",
     "text": [
      "Downloading data from https://storage.googleapis.com/keras-applications/efficientnetb3_notop.h5\n",
      "43941888/43941136 [==============================] - 0s 0us/step\n",
      "43950080/43941136 [==============================] - 0s 0us/step\n",
      "Model: \"sequential_2\"\n",
      "_________________________________________________________________\n",
      "Layer (type)                 Output Shape              Param #   \n",
      "=================================================================\n",
      "efficientnetb3 (Functional)  (None, 7, 7, 1536)        10783535  \n",
      "_________________________________________________________________\n",
      "global_average_pooling2d (Gl (None, 1536)              0         \n",
      "_________________________________________________________________\n",
      "dense (Dense)                (None, 131)               201347    \n",
      "=================================================================\n",
      "Total params: 10,984,882\n",
      "Trainable params: 10,897,579\n",
      "Non-trainable params: 87,303\n",
      "_________________________________________________________________\n"
     ]
    }
   ],
   "source": [
    "# building EfficientNetB3 model\n",
    "from tensorflow.keras.applications import EfficientNetB3\n",
    "\n",
    "backbone = EfficientNetB3(\n",
    "    input_shape=(224,224,3),\n",
    "    include_top=False\n",
    ")\n",
    "\n",
    "model = tf.keras.Sequential([\n",
    "    backbone,\n",
    "    tf.keras.layers.GlobalAveragePooling2D(),\n",
    "    tf.keras.layers.Dense(131, activation='softmax')\n",
    "])\n",
    "\n",
    "model.summary()"
   ]
  },
  {
   "cell_type": "code",
   "execution_count": 17,
   "id": "dee4f91a",
   "metadata": {
    "execution": {
     "iopub.execute_input": "2023-01-16T07:34:48.441277Z",
     "iopub.status.busy": "2023-01-16T07:34:48.440410Z",
     "iopub.status.idle": "2023-01-16T07:34:48.648572Z",
     "shell.execute_reply": "2023-01-16T07:34:48.647407Z"
    },
    "papermill": {
     "duration": 0.22175,
     "end_time": "2023-01-16T07:34:48.651122",
     "exception": false,
     "start_time": "2023-01-16T07:34:48.429372",
     "status": "completed"
    },
    "tags": []
   },
   "outputs": [],
   "source": [
    "# compiling your model by providing the optimizer, loss and metrics\n",
    "model.compile(\n",
    "    optimizer=tf.keras.optimizers.Adam(learning_rate=0.001, beta_1=0.9, beta_2=0.999, epsilon=1e-07),\n",
    "    loss = 'categorical_crossentropy',\n",
    "    metrics=['accuracy', tf.keras.metrics.Precision(name='Precision'), tf.keras.metrics.Recall(name='Recall')]\n",
    ")"
   ]
  },
  {
   "cell_type": "code",
   "execution_count": 18,
   "id": "f9a4f4f9",
   "metadata": {
    "execution": {
     "iopub.execute_input": "2023-01-16T07:34:48.674567Z",
     "iopub.status.busy": "2023-01-16T07:34:48.673542Z",
     "iopub.status.idle": "2023-01-16T07:54:18.867877Z",
     "shell.execute_reply": "2023-01-16T07:54:18.866728Z"
    },
    "papermill": {
     "duration": 1170.310624,
     "end_time": "2023-01-16T07:54:18.972986",
     "exception": false,
     "start_time": "2023-01-16T07:34:48.662362",
     "status": "completed"
    },
    "tags": []
   },
   "outputs": [
    {
     "name": "stderr",
     "output_type": "stream",
     "text": [
      "2023-01-16 07:35:05.150822: I tensorflow/stream_executor/cuda/cuda_dnn.cc:369] Loaded cuDNN version 8005\n"
     ]
    },
    {
     "name": "stdout",
     "output_type": "stream",
     "text": [
      "1586/1586 [==============================] - 1170s 722ms/step - loss: 0.2446 - accuracy: 0.9388 - Precision: 0.9665 - Recall: 0.9184 - val_loss: 0.3922 - val_accuracy: 0.8886 - val_Precision: 0.9084 - val_Recall: 0.8703\n"
     ]
    }
   ],
   "source": [
    "#train the model\n",
    "history = model.fit(\n",
    "    train_dataset,\n",
    "    steps_per_epoch=len(Tr_paths)//batch_size,\n",
    "    epochs=1,\n",
    "    validation_data=val_dataset,\n",
    "    validation_steps=len(Val_paths)//batch_size, \n",
    ")"
   ]
  },
  {
   "cell_type": "code",
   "execution_count": 19,
   "id": "fd18a7d5",
   "metadata": {
    "execution": {
     "iopub.execute_input": "2023-01-16T07:54:19.190477Z",
     "iopub.status.busy": "2023-01-16T07:54:19.190079Z",
     "iopub.status.idle": "2023-01-16T07:54:19.205868Z",
     "shell.execute_reply": "2023-01-16T07:54:19.205003Z"
    },
    "papermill": {
     "duration": 0.11899,
     "end_time": "2023-01-16T07:54:19.208121",
     "exception": false,
     "start_time": "2023-01-16T07:54:19.089131",
     "status": "completed"
    },
    "tags": []
   },
   "outputs": [],
   "source": [
    "# turn off the backbone\n",
    "model.layers[0].trainable = False"
   ]
  },
  {
   "cell_type": "code",
   "execution_count": 20,
   "id": "b1f834d8",
   "metadata": {
    "execution": {
     "iopub.execute_input": "2023-01-16T07:54:19.397604Z",
     "iopub.status.busy": "2023-01-16T07:54:19.395757Z",
     "iopub.status.idle": "2023-01-16T07:54:19.401582Z",
     "shell.execute_reply": "2023-01-16T07:54:19.400714Z"
    },
    "papermill": {
     "duration": 0.102029,
     "end_time": "2023-01-16T07:54:19.403523",
     "exception": false,
     "start_time": "2023-01-16T07:54:19.301494",
     "status": "completed"
    },
    "tags": []
   },
   "outputs": [],
   "source": [
    "#Defining callbacks\n",
    "checkpoint = tf.keras.callbacks.ModelCheckpoint(\"best_weights.h5\", verbose=1, save_best_only=True, save_weights_only=True)\n",
    "early_stop = tf.keras.callbacks.EarlyStopping(patience=4)"
   ]
  },
  {
   "cell_type": "code",
   "execution_count": 21,
   "id": "6f0b1617",
   "metadata": {
    "execution": {
     "iopub.execute_input": "2023-01-16T07:54:19.627100Z",
     "iopub.status.busy": "2023-01-16T07:54:19.626214Z",
     "iopub.status.idle": "2023-01-16T07:54:19.645320Z",
     "shell.execute_reply": "2023-01-16T07:54:19.644341Z"
    },
    "papermill": {
     "duration": 0.152523,
     "end_time": "2023-01-16T07:54:19.649830",
     "exception": false,
     "start_time": "2023-01-16T07:54:19.497307",
     "status": "completed"
    },
    "tags": []
   },
   "outputs": [
    {
     "name": "stdout",
     "output_type": "stream",
     "text": [
      "Model: \"sequential_2\"\n",
      "_________________________________________________________________\n",
      "Layer (type)                 Output Shape              Param #   \n",
      "=================================================================\n",
      "efficientnetb3 (Functional)  (None, 7, 7, 1536)        10783535  \n",
      "_________________________________________________________________\n",
      "global_average_pooling2d (Gl (None, 1536)              0         \n",
      "_________________________________________________________________\n",
      "dense (Dense)                (None, 131)               201347    \n",
      "=================================================================\n",
      "Total params: 10,984,882\n",
      "Trainable params: 201,347\n",
      "Non-trainable params: 10,783,535\n",
      "_________________________________________________________________\n"
     ]
    }
   ],
   "source": [
    "model.summary()"
   ]
  },
  {
   "cell_type": "code",
   "execution_count": 22,
   "id": "c0d1a5cc",
   "metadata": {
    "execution": {
     "iopub.execute_input": "2023-01-16T07:54:19.840438Z",
     "iopub.status.busy": "2023-01-16T07:54:19.839210Z",
     "iopub.status.idle": "2023-01-16T07:54:19.844514Z",
     "shell.execute_reply": "2023-01-16T07:54:19.843472Z"
    },
    "papermill": {
     "duration": 0.103496,
     "end_time": "2023-01-16T07:54:19.846811",
     "exception": false,
     "start_time": "2023-01-16T07:54:19.743315",
     "status": "completed"
    },
    "tags": []
   },
   "outputs": [],
   "source": [
    "# train the phase 2 of model\n",
    "# history = model.fit(\n",
    "#     train_dataset,\n",
    "#     steps_per_epoch=len(Tr_paths)//batch_size,\n",
    "#     epochs=5,\n",
    "#     callbacks=[checkpoint, early_stop],\n",
    "#     validation_data=val_dataset,\n",
    "#     validation_steps=len(Val_paths)//batch_size,\n",
    "# )"
   ]
  },
  {
   "cell_type": "code",
   "execution_count": 23,
   "id": "d81e9754",
   "metadata": {
    "execution": {
     "iopub.execute_input": "2023-01-16T07:54:20.034231Z",
     "iopub.status.busy": "2023-01-16T07:54:20.033300Z",
     "iopub.status.idle": "2023-01-16T07:54:20.038182Z",
     "shell.execute_reply": "2023-01-16T07:54:20.037363Z"
    },
    "papermill": {
     "duration": 0.099709,
     "end_time": "2023-01-16T07:54:20.040304",
     "exception": false,
     "start_time": "2023-01-16T07:54:19.940595",
     "status": "completed"
    },
    "tags": []
   },
   "outputs": [],
   "source": [
    "# building inceptionV3 model\n",
    "# from tensorflow.keras.applications import InceptionV3\n",
    "\n",
    "# backbone = InceptionV3(\n",
    "#     input_shape=(224,224,3),\n",
    "#     include_top=False\n",
    "# )\n",
    "\n",
    "# model = tf.keras.Sequential([\n",
    "#     backbone,\n",
    "#     tf.keras.layers.GlobalAveragePooling2D(),\n",
    "#     tf.keras.layers.Dense(131, activation='softmax')\n",
    "# ])\n",
    "\n",
    "# model.summary()"
   ]
  },
  {
   "cell_type": "code",
   "execution_count": 24,
   "id": "a3e1dc57",
   "metadata": {
    "execution": {
     "iopub.execute_input": "2023-01-16T07:54:20.258360Z",
     "iopub.status.busy": "2023-01-16T07:54:20.257917Z",
     "iopub.status.idle": "2023-01-16T07:54:20.261985Z",
     "shell.execute_reply": "2023-01-16T07:54:20.261184Z"
    },
    "papermill": {
     "duration": 0.133276,
     "end_time": "2023-01-16T07:54:20.266280",
     "exception": false,
     "start_time": "2023-01-16T07:54:20.133004",
     "status": "completed"
    },
    "tags": []
   },
   "outputs": [],
   "source": [
    "# turn off the backbone\n",
    "# model.layers[0].trainable = False"
   ]
  },
  {
   "cell_type": "code",
   "execution_count": 25,
   "id": "3455b767",
   "metadata": {
    "execution": {
     "iopub.execute_input": "2023-01-16T07:54:20.544979Z",
     "iopub.status.busy": "2023-01-16T07:54:20.544615Z",
     "iopub.status.idle": "2023-01-16T07:54:20.549059Z",
     "shell.execute_reply": "2023-01-16T07:54:20.548259Z"
    },
    "papermill": {
     "duration": 0.150886,
     "end_time": "2023-01-16T07:54:20.553315",
     "exception": false,
     "start_time": "2023-01-16T07:54:20.402429",
     "status": "completed"
    },
    "tags": []
   },
   "outputs": [],
   "source": [
    "# compiling your model by providing the optimizer, loss and metrics\n",
    "# model.compile(\n",
    "#     optimizer=tf.keras.optimizers.Adam(learning_rate=0.001, beta_1=0.9, beta_2=0.999, epsilon=1e-07),\n",
    "#     loss = 'categorical_crossentropy',\n",
    "#     metrics=['accuracy', tf.keras.metrics.Precision(name='Precision'), tf.keras.metrics.Recall(name='Recall')]\n",
    "# )"
   ]
  },
  {
   "cell_type": "code",
   "execution_count": 26,
   "id": "e714974c",
   "metadata": {
    "execution": {
     "iopub.execute_input": "2023-01-16T07:54:20.794084Z",
     "iopub.status.busy": "2023-01-16T07:54:20.793749Z",
     "iopub.status.idle": "2023-01-16T07:54:20.798232Z",
     "shell.execute_reply": "2023-01-16T07:54:20.797219Z"
    },
    "papermill": {
     "duration": 0.102231,
     "end_time": "2023-01-16T07:54:20.800273",
     "exception": false,
     "start_time": "2023-01-16T07:54:20.698042",
     "status": "completed"
    },
    "tags": []
   },
   "outputs": [],
   "source": [
    "#  history = model.fit(\n",
    "#     train_dataset,\n",
    "#     steps_per_epoch=len(Tr_paths)//batch_size,\n",
    "#     epochs=5,\n",
    "#     callbacks=[checkpoint, early_stop],\n",
    "#     validation_data=val_dataset,\n",
    "#     validation_steps=len(Val_paths)//batch_size,\n",
    "# )"
   ]
  },
  {
   "cell_type": "code",
   "execution_count": 27,
   "id": "49d80788",
   "metadata": {
    "execution": {
     "iopub.execute_input": "2023-01-16T07:54:20.990068Z",
     "iopub.status.busy": "2023-01-16T07:54:20.989745Z",
     "iopub.status.idle": "2023-01-16T07:54:20.994088Z",
     "shell.execute_reply": "2023-01-16T07:54:20.992939Z"
    },
    "papermill": {
     "duration": 0.102836,
     "end_time": "2023-01-16T07:54:20.996303",
     "exception": false,
     "start_time": "2023-01-16T07:54:20.893467",
     "status": "completed"
    },
    "tags": []
   },
   "outputs": [],
   "source": [
    "# turn off the backbone\n",
    "# model.layers[0].trainable = False"
   ]
  },
  {
   "cell_type": "code",
   "execution_count": 28,
   "id": "929e773c",
   "metadata": {
    "execution": {
     "iopub.execute_input": "2023-01-16T07:54:21.185527Z",
     "iopub.status.busy": "2023-01-16T07:54:21.185079Z",
     "iopub.status.idle": "2023-01-16T07:54:21.225237Z",
     "shell.execute_reply": "2023-01-16T07:54:21.224418Z"
    },
    "papermill": {
     "duration": 0.136976,
     "end_time": "2023-01-16T07:54:21.227434",
     "exception": false,
     "start_time": "2023-01-16T07:54:21.090458",
     "status": "completed"
    },
    "tags": []
   },
   "outputs": [],
   "source": [
    "# compiling your model by providing the optimizer, loss and metrics\n",
    "model.compile(\n",
    "    optimizer=tf.keras.optimizers.Adam(learning_rate=0.001, beta_1=0.9, beta_2=0.999, epsilon=1e-07),\n",
    "    loss = 'categorical_crossentropy',\n",
    "    metrics=['accuracy', tf.keras.metrics.Precision(name='Precision'), tf.keras.metrics.Recall(name='Recall')]\n",
    ")"
   ]
  },
  {
   "cell_type": "code",
   "execution_count": 29,
   "id": "d406b4d0",
   "metadata": {
    "execution": {
     "iopub.execute_input": "2023-01-16T07:54:21.418565Z",
     "iopub.status.busy": "2023-01-16T07:54:21.417602Z",
     "iopub.status.idle": "2023-01-16T08:39:47.592579Z",
     "shell.execute_reply": "2023-01-16T08:39:47.591575Z"
    },
    "papermill": {
     "duration": 2726.875747,
     "end_time": "2023-01-16T08:39:48.198119",
     "exception": false,
     "start_time": "2023-01-16T07:54:21.322372",
     "status": "completed"
    },
    "tags": []
   },
   "outputs": [
    {
     "name": "stdout",
     "output_type": "stream",
     "text": [
      "Epoch 1/5\n",
      "1586/1586 [==============================] - 555s 344ms/step - loss: 0.0023 - accuracy: 0.9993 - Precision: 0.9993 - Recall: 0.9992 - val_loss: 0.3073 - val_accuracy: 0.9218 - val_Precision: 0.9275 - val_Recall: 0.9165\n",
      "\n",
      "Epoch 00001: val_loss improved from inf to 0.30726, saving model to best_weights.h5\n",
      "Epoch 2/5\n",
      "1586/1586 [==============================] - 540s 340ms/step - loss: 0.0013 - accuracy: 0.9996 - Precision: 0.9997 - Recall: 0.9996 - val_loss: 0.3144 - val_accuracy: 0.9257 - val_Precision: 0.9317 - val_Recall: 0.9211\n",
      "\n",
      "Epoch 00002: val_loss did not improve from 0.30726\n",
      "Epoch 3/5\n",
      "1586/1586 [==============================] - 543s 342ms/step - loss: 0.0011 - accuracy: 0.9997 - Precision: 0.9997 - Recall: 0.9997 - val_loss: 0.3257 - val_accuracy: 0.9323 - val_Precision: 0.9373 - val_Recall: 0.9282\n",
      "\n",
      "Epoch 00003: val_loss did not improve from 0.30726\n",
      "Epoch 4/5\n",
      "1586/1586 [==============================] - 540s 340ms/step - loss: 5.8104e-04 - accuracy: 0.9997 - Precision: 0.9997 - Recall: 0.9997 - val_loss: 0.3497 - val_accuracy: 0.9251 - val_Precision: 0.9297 - val_Recall: 0.9217\n",
      "\n",
      "Epoch 00004: val_loss did not improve from 0.30726\n",
      "Epoch 5/5\n",
      "1586/1586 [==============================] - 547s 345ms/step - loss: 6.7946e-04 - accuracy: 0.9998 - Precision: 0.9998 - Recall: 0.9998 - val_loss: 0.4144 - val_accuracy: 0.9296 - val_Precision: 0.9341 - val_Recall: 0.9260\n",
      "\n",
      "Epoch 00005: val_loss did not improve from 0.30726\n"
     ]
    }
   ],
   "source": [
    " history = model.fit(\n",
    "    train_dataset,\n",
    "    steps_per_epoch=len(Tr_paths)//batch_size,\n",
    "    epochs=5,\n",
    "    callbacks=[checkpoint, early_stop],\n",
    "    validation_data=val_dataset,\n",
    "    validation_steps=len(Val_paths)//batch_size,\n",
    ")"
   ]
  },
  {
   "cell_type": "code",
   "execution_count": 30,
   "id": "6fc3c750",
   "metadata": {
    "execution": {
     "iopub.execute_input": "2023-01-16T08:39:49.305886Z",
     "iopub.status.busy": "2023-01-16T08:39:49.305500Z",
     "iopub.status.idle": "2023-01-16T08:39:49.676483Z",
     "shell.execute_reply": "2023-01-16T08:39:49.675475Z"
    },
    "papermill": {
     "duration": 0.918412,
     "end_time": "2023-01-16T08:39:49.679503",
     "exception": false,
     "start_time": "2023-01-16T08:39:48.761091",
     "status": "completed"
    },
    "tags": []
   },
   "outputs": [],
   "source": [
    "model.load_weights(\"/kaggle/working/best_weights.h5\")"
   ]
  },
  {
   "cell_type": "code",
   "execution_count": 31,
   "id": "30c9f9bf",
   "metadata": {
    "execution": {
     "iopub.execute_input": "2023-01-16T08:39:50.832636Z",
     "iopub.status.busy": "2023-01-16T08:39:50.831300Z",
     "iopub.status.idle": "2023-01-16T08:40:02.940815Z",
     "shell.execute_reply": "2023-01-16T08:40:02.939834Z"
    },
    "papermill": {
     "duration": 12.683458,
     "end_time": "2023-01-16T08:40:02.943799",
     "exception": false,
     "start_time": "2023-01-16T08:39:50.260341",
     "status": "completed"
    },
    "tags": []
   },
   "outputs": [],
   "source": [
    "# create a dataset object for testing seet just the way we did for training and validation\n",
    "test_image_paths = list(ts_path.glob(\"*/*\"))\n",
    "test_image_paths = list(map(lambda x : str(x), test_image_paths))\n",
    "test_labels = list(map(lambda x : get_label(x), test_image_paths))\n",
    "\n",
    "test_labels = le.transform(test_labels)\n",
    "test_labels = tf.keras.utils.to_categorical(test_labels)\n",
    "\n",
    "def decode_image(image, label):\n",
    "    image = tf.io.read_file(image)\n",
    "    image = tf.io.decode_jpeg(image, channels = 3)\n",
    "    image = tf.image.resize(image, [224,224], method=\"bilinear\")\n",
    "    return image, label\n",
    "\n",
    "test_dataset = (\n",
    "    tf.data.Dataset\n",
    "    .from_tensor_slices((test_image_paths, test_labels))\n",
    "    .map(decode_image)\n",
    "    .batch(batch_size)\n",
    ")"
   ]
  },
  {
   "cell_type": "code",
   "execution_count": 32,
   "id": "fda2970a",
   "metadata": {
    "execution": {
     "iopub.execute_input": "2023-01-16T08:40:04.126043Z",
     "iopub.status.busy": "2023-01-16T08:40:04.125659Z",
     "iopub.status.idle": "2023-01-16T08:40:04.339180Z",
     "shell.execute_reply": "2023-01-16T08:40:04.337477Z"
    },
    "papermill": {
     "duration": 0.823952,
     "end_time": "2023-01-16T08:40:04.342127",
     "exception": false,
     "start_time": "2023-01-16T08:40:03.518175",
     "status": "completed"
    },
    "tags": []
   },
   "outputs": [
    {
     "name": "stdout",
     "output_type": "stream",
     "text": [
      "(32, 224, 224, 3)\n",
      "(32, 131)\n"
     ]
    }
   ],
   "source": [
    "# verify test dataset object\n",
    "image, label = next(iter(test_dataset))\n",
    "print(image.shape)\n",
    "print(label.shape)"
   ]
  },
  {
   "cell_type": "code",
   "execution_count": 33,
   "id": "c134a15e",
   "metadata": {
    "execution": {
     "iopub.execute_input": "2023-01-16T08:40:05.472657Z",
     "iopub.status.busy": "2023-01-16T08:40:05.472078Z",
     "iopub.status.idle": "2023-01-16T08:40:05.727192Z",
     "shell.execute_reply": "2023-01-16T08:40:05.726147Z"
    },
    "papermill": {
     "duration": 0.833496,
     "end_time": "2023-01-16T08:40:05.729413",
     "exception": false,
     "start_time": "2023-01-16T08:40:04.895917",
     "status": "completed"
    },
    "tags": []
   },
   "outputs": [
    {
     "name": "stdout",
     "output_type": "stream",
     "text": [
      "Quince\n"
     ]
    },
    {
     "data": {
      "text/plain": [
       "<matplotlib.image.AxesImage at 0x7f3138295510>"
      ]
     },
     "execution_count": 33,
     "metadata": {},
     "output_type": "execute_result"
    },
    {
     "data": {
      "image/png": "[encoded data removed]",
      "text/plain": [
       "<Figure size 432x288 with 1 Axes>"
      ]
     },
     "metadata": {
      "needs_background": "light"
     },
     "output_type": "display_data"
    }
   ],
   "source": [
    "# view a sample validation image\n",
    "print(le.inverse_transform(np.argmax(label, axis = 1))[0])\n",
    "plt.imshow((image[0].numpy()/255).reshape(224, 224, 3))"
   ]
  },
  {
   "cell_type": "code",
   "execution_count": 34,
   "id": "f12205c2",
   "metadata": {
    "execution": {
     "iopub.execute_input": "2023-01-16T08:40:06.773646Z",
     "iopub.status.busy": "2023-01-16T08:40:06.773141Z",
     "iopub.status.idle": "2023-01-16T08:41:41.291747Z",
     "shell.execute_reply": "2023-01-16T08:41:41.290199Z"
    },
    "papermill": {
     "duration": 95.043222,
     "end_time": "2023-01-16T08:41:41.294599",
     "exception": false,
     "start_time": "2023-01-16T08:40:06.251377",
     "status": "completed"
    },
    "tags": []
   },
   "outputs": [
    {
     "name": "stdout",
     "output_type": "stream",
     "text": [
      "709/709 [==============================] - 94s 133ms/step - loss: 0.4200 - accuracy: 0.8920 - Precision: 0.9021 - Recall: 0.8819\n",
      "Testing Acc:  0.8919693231582642\n",
      "Testing Precision:  0.9021146297454834\n",
      "Testing Recall:  0.8818758726119995\n"
     ]
    }
   ],
   "source": [
    "# evaluating the loaded model\n",
    "loss, acc, prec, rec = model.evaluate(test_dataset)\n",
    "\n",
    "print(\"Testing Acc: \", acc)\n",
    "print(\"Testing Precision: \", prec)\n",
    "print(\"Testing Recall: \", rec)"
   ]
  },
  {
   "cell_type": "code",
   "execution_count": 35,
   "id": "445ca776",
   "metadata": {
    "execution": {
     "iopub.execute_input": "2023-01-16T08:41:42.466820Z",
     "iopub.status.busy": "2023-01-16T08:41:42.466463Z",
     "iopub.status.idle": "2023-01-16T08:41:42.473289Z",
     "shell.execute_reply": "2023-01-16T08:41:42.472093Z"
    },
    "papermill": {
     "duration": 0.622136,
     "end_time": "2023-01-16T08:41:42.475490",
     "exception": false,
     "start_time": "2023-01-16T08:41:41.853354",
     "status": "completed"
    },
    "tags": []
   },
   "outputs": [],
   "source": [
    "def LoadImage(image_path):\n",
    "    image = tf.io.read_file(image_path)\n",
    "    image = tf.io.decode_jpeg(image, channels=3)\n",
    "    image = tf.image.resize(image, [224, 224], method=\"bilinear\")\n",
    "    plt.imshow(image.numpy()/255)\n",
    "    image = tf.expand_dims(image, 0)\n",
    "    return image\n",
    "\n",
    "def RealtimePrediction(image_path, model, encoder_):\n",
    "    image = LoadImage(image_path)\n",
    "    prediction = model.predict(image)\n",
    "    prediction = np.argmax(prediction, axis=1)\n",
    "    return encoder_.inverse_transform(prediction)[0]"
   ]
  },
  {
   "cell_type": "code",
   "execution_count": 36,
   "id": "10d161a1",
   "metadata": {
    "execution": {
     "iopub.execute_input": "2023-01-16T08:41:43.632439Z",
     "iopub.status.busy": "2023-01-16T08:41:43.632009Z",
     "iopub.status.idle": "2023-01-16T08:41:46.577025Z",
     "shell.execute_reply": "2023-01-16T08:41:46.576053Z"
    },
    "papermill": {
     "duration": 3.555797,
     "end_time": "2023-01-16T08:41:46.579534",
     "exception": false,
     "start_time": "2023-01-16T08:41:43.023737",
     "status": "completed"
    },
    "tags": []
   },
   "outputs": [
    {
     "data": {
      "text/plain": [
       "'Beetroot'"
      ]
     },
     "execution_count": 36,
     "metadata": {},
     "output_type": "execute_result"
    },
    {
     "data": {
      "image/png": "[encoded data removed]",
      "text/plain": [
       "<Figure size 432x288 with 1 Axes>"
      ]
     },
     "metadata": {
      "needs_background": "light"
     },
     "output_type": "display_data"
    }
   ],
   "source": [
    "RealtimePrediction(\"/kaggle/input/fruits/fruits-360-original-size/fruits-360-original-size/Test/zucchini_dark_1/r0_107.jpg\", model, le)"
   ]
  }
 ],
 "metadata": {
  "kernelspec": {
   "display_name": "Python 3",
   "language": "python",
   "name": "python3"
  },
  "language_info": {
   "codemirror_mode": {
    "name": "ipython",
    "version": 3
   },
   "file_extension": ".py",
   "mimetype": "text/x-python",
   "name": "python",
   "nbconvert_exporter": "python",
   "pygments_lexer": "ipython3",
   "version": "3.7.12"
  },
  "papermill": {
   "default_parameters": {},
   "duration": 4078.030009,
   "end_time": "2023-01-16T08:41:50.255030",
   "environment_variables": {},
   "exception": null,
   "input_path": "__notebook__.ipynb",
   "output_path": "__notebook__.ipynb",
   "parameters": {},
   "start_time": "2023-01-16T07:33:52.225021",
   "version": "2.3.4"
  }
 },
 "nbformat": 4,
 "nbformat_minor": 5
}
